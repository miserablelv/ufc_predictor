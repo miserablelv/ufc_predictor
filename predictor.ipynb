{
 "cells": [
  {
   "cell_type": "code",
   "execution_count": 1,
   "id": "236b8268-4b0f-4546-8a1c-cdc7d6c428ac",
   "metadata": {},
   "outputs": [],
   "source": [
    "# !pip install skicit-learn\n",
    "\n",
    "import sklearn\n",
    "import pandas as pd\n",
    "import json\n",
    "import numpy as np"
   ]
  },
  {
   "cell_type": "code",
   "execution_count": 2,
   "id": "5597a839-f542-4e82-b3cb-3c82b62a9564",
   "metadata": {},
   "outputs": [
    {
     "name": "stdout",
     "output_type": "stream",
     "text": [
      "1219 150\n",
      "1219\n",
      "   Fight_info_division  Fight_info_n_rounds  Fighter_A_basic_stats_Height  \\\n",
      "0                    2                    5                            71   \n",
      "1                    5                    3                            72   \n",
      "2                    2                    3                            70   \n",
      "3                    5                    5                            75   \n",
      "4                    3                    3                            72   \n",
      "\n",
      "   Fighter_A_basic_stats_Reach  Fighter_A_basic_stats_Stance_0  \\\n",
      "0                           70                               1   \n",
      "1                           73                               0   \n",
      "2                           75                               1   \n",
      "3                           74                               0   \n",
      "4                           74                               0   \n",
      "\n",
      "   Fighter_A_basic_stats_Stance_1  Fighter_A_basic_stats_Age  \\\n",
      "0                               1                      33.03   \n",
      "1                               1                      38.60   \n",
      "2                               0                      33.02   \n",
      "3                               1                      27.44   \n",
      "4                               1                      36.67   \n",
      "\n",
      "   Fighter_B_basic_stats_Height  Fighter_B_basic_stats_Reach  \\\n",
      "0                            65                           68   \n",
      "1                            73                           74   \n",
      "2                            67                           69   \n",
      "3                            73                           78   \n",
      "4                            71                           74   \n",
      "\n",
      "   Fighter_B_basic_stats_Stance_0  ...  Fighter_B_career_stats_sub_attempts  \\\n",
      "0                               0  ...                                   22   \n",
      "1                               1  ...                                    1   \n",
      "2                               0  ...                                    0   \n",
      "3                               1  ...                                    0   \n",
      "4                               0  ...                                    3   \n",
      "\n",
      "   Fighter_B_career_stats_sub_attempts_against  \\\n",
      "0                                            3   \n",
      "1                                            1   \n",
      "2                                            0   \n",
      "3                                            0   \n",
      "4                                            5   \n",
      "\n",
      "   Fighter_B_career_stats_reversals  Fighter_B_career_stats_reversals_against  \\\n",
      "0                                 0                                         1   \n",
      "1                                 1                                         0   \n",
      "2                                 1                                         0   \n",
      "3                                 0                                         0   \n",
      "4                                 7                                         2   \n",
      "\n",
      "           Fight_id      Fighter_A_id      Fighter_B_id  \\\n",
      "0  9b3bade95e1dd484  65f09bacd3957381  aa72b0f831d0bfe5   \n",
      "1  191ee545160a4e09  6d1bffff14897645  8a1f3b5c526cd6e6   \n",
      "2  5ce29056e0cd2df9  cc1a8b4b38b92c6d  850266b3dc4e506e   \n",
      "3  633f4b5ec767769d  442c9011034ae1fd  7ee0fd831c0fe7c3   \n",
      "4  4072abf0b0c179f2  9560ff14eb3129f7  ffe9703408fb5964   \n",
      "\n",
      "  Fighter_A_career_stats_weight  Fighter_B_career_stats_weight  Weight_diff  \n",
      "0                             2                              2     0.442857  \n",
      "1                             5                              5     0.071429  \n",
      "2                             2                              2     0.000000  \n",
      "3                             5                              5     0.000000  \n",
      "4                             3                              3     0.000000  \n",
      "\n",
      "[5 rows x 150 columns]\n"
     ]
    }
   ],
   "source": [
    "with open('new_new_fights_df.json', 'r') as file:\n",
    "    fights = json.load(file)\n",
    "    df = pd.DataFrame(fights)\n",
    "\n",
    "with open('fight_results.json', 'r') as file:\n",
    "    y = json.load(file)\n",
    "\n",
    "print(len(df), len(df.columns))\n",
    "print(len(y))\n",
    "print(df.head())"
   ]
  },
  {
   "cell_type": "code",
   "execution_count": 4,
   "id": "52753563-caf5-4105-a726-4efdcdd598b6",
   "metadata": {},
   "outputs": [
    {
     "name": "stdout",
     "output_type": "stream",
     "text": [
      "   Fight_kd_diff  Fight_striking_ovr_acc_diff  Fight_mean_striking_diff  \\\n",
      "0      -0.163561                    -0.037561                  0.789150   \n",
      "1       0.049969                    -0.007785                 -0.697136   \n",
      "2       0.393696                    -0.071537                 -0.559586   \n",
      "3      -1.053821                    -0.023387                  0.834854   \n",
      "4      -0.011906                    -0.012827                 -0.623442   \n",
      "\n",
      "   Fight_strikes_head_diff  Fight_strikes_body_diff  Fight_strikes_leg_diff  \\\n",
      "0                -0.124798                -0.040354               -0.143449   \n",
      "1                 0.657837                -0.260915               -0.119290   \n",
      "2                 0.752665                 0.163419               -0.543225   \n",
      "3                 1.138134                 0.168254               -1.388993   \n",
      "4                -0.806657                -0.286590                0.208629   \n",
      "\n",
      "   Fight_strikes_distance_diff  Fight_strikes_clinch_diff  \\\n",
      "0                    -0.319512                  -0.029971   \n",
      "1                     0.319282                  -0.066593   \n",
      "2                    -0.135169                   0.536860   \n",
      "3                    -0.145482                  -0.095124   \n",
      "4                    -0.124489                  -0.186910   \n",
      "\n",
      "   Fight_strikes_ground_diff  Fight_TD_per_round_diff  ...  \\\n",
      "0                   0.040884                -0.096179  ...   \n",
      "1                   0.024942                 0.260831  ...   \n",
      "2                  -0.028832                 0.273100  ...   \n",
      "3                   0.158001                 0.000000  ...   \n",
      "4                  -0.573219                 0.547104  ...   \n",
      "\n",
      "   Fight_stance_1_diff  Fight_streak_diff  Fight_weight_diff  \\\n",
      "0                    0                  0           0.366234   \n",
      "1                    1                  0          -0.279221   \n",
      "2                   -1                  0           0.000000   \n",
      "3                    0                 -6           0.000000   \n",
      "4                    0                 -4           0.000000   \n",
      "\n",
      "   Fight_025_div_change  Fight_05_div_change  Fight_075_div_change  \\\n",
      "0                     0                    0                     0   \n",
      "1                     0                    0                     0   \n",
      "2                     1                    0                     0   \n",
      "3                     1                    0                     0   \n",
      "4                     1                    0                     0   \n",
      "\n",
      "   Fight_01_div_change  Fight_10_div_change  Fight_moving_up_diff  \\\n",
      "0                    0                  0.0                     0   \n",
      "1                    0                  0.0                     0   \n",
      "2                    0                  0.0                     0   \n",
      "3                    0                  0.0                     0   \n",
      "4                    0                  0.0                     0   \n",
      "\n",
      "   Fight_moving_down_diff  \n",
      "0                       0  \n",
      "1                       0  \n",
      "2                       0  \n",
      "3                       0  \n",
      "4                       0  \n",
      "\n",
      "[5 rows x 70 columns]\n"
     ]
    }
   ],
   "source": [
    "import numpy as np\n",
    "from feature_engineering import engineer_features\n",
    "\n",
    "new_df = engineer_features(df)\n",
    "with open('X.json', \"w\") as file:\n",
    "    json.dump(new_df.to_dict(orient=\"records\"), file)\n",
    "\n",
    "with open('X.json', \"r\") as file:\n",
    "    X = json.load(file)\n",
    "    X = pd.DataFrame.from_dict(X)\n",
    "\n",
    "print(X.head())"
   ]
  },
  {
   "cell_type": "code",
   "execution_count": 5,
   "id": "b86efaaf-3a88-4257-b49d-98aa434238e1",
   "metadata": {},
   "outputs": [
    {
     "name": "stdout",
     "output_type": "stream",
     "text": [
      "                 id  winner\n",
      "0  9b3bade95e1dd484       0\n",
      "1  191ee545160a4e09       1\n",
      "2  5ce29056e0cd2df9       0\n",
      "3  633f4b5ec767769d       0\n",
      "4  4072abf0b0c179f2       1\n"
     ]
    },
    {
     "name": "stderr",
     "output_type": "stream",
     "text": [
      "C:\\Users\\Rober\\AppData\\Local\\Temp\\ipykernel_23768\\2140858880.py:5: FutureWarning: Downcasting behavior in `replace` is deprecated and will be removed in a future version. To retain the old behavior, explicitly call `result.infer_objects(copy=False)`. To opt-in to the future behavior, set `pd.set_option('future.no_silent_downcasting', True)`\n",
      "  y_df['winner'] = y_df['winner'].replace({'A': 0, 'B': 1, 'Draw/NC': 2})\n"
     ]
    }
   ],
   "source": [
    "with open('fight_results.json', 'r') as file:\n",
    "    y = json.load(file)\n",
    "    y_df = pd.DataFrame.from_dict(y)\n",
    "\n",
    "y_df['winner'] = y_df['winner'].replace({'A': 0, 'B': 1, 'Draw/NC': 2})\n",
    "print(y_df.head())"
   ]
  },
  {
   "cell_type": "code",
   "execution_count": 6,
   "id": "fa215fcf-d26a-4985-83ee-080cdfb77d83",
   "metadata": {},
   "outputs": [
    {
     "name": "stdout",
     "output_type": "stream",
     "text": [
      "(1198, 70) (1198,)\n"
     ]
    }
   ],
   "source": [
    "import numpy as np\n",
    "\n",
    "y = np.ravel(y_df['winner']) \n",
    "\n",
    "# get indices where y == 2 (draw/no contest)\n",
    "# very rare, difficult to predict\n",
    "indices_to_remove = np.where(y == 2)[0] # from test too?\n",
    "\n",
    "X_filtered = np.delete(X, indices_to_remove, axis=0)\n",
    "y_filtered = np.delete(y, indices_to_remove, axis=0)\n",
    "\n",
    "print(X_filtered.shape, y_filtered.shape)"
   ]
  },
  {
   "cell_type": "markdown",
   "id": "c3c363ab-8ae3-496e-a4b0-b195bdfaa7f7",
   "metadata": {},
   "source": [
    "**BASE/NAIVE MODEL: PREDICTING ON THE FAVOURITE. PROBLEM => ACCESSING ODDS**"
   ]
  },
  {
   "cell_type": "code",
   "execution_count": 17,
   "id": "8b2582c1-a49e-45c1-b2fb-c39dfaac30ab",
   "metadata": {},
   "outputs": [
    {
     "name": "stdout",
     "output_type": "stream",
     "text": [
      "(1198, 70) (1198,)\n",
      "(718, 70) (718,) (241, 70) (241,) (241, 70) (241,)\n"
     ]
    }
   ],
   "source": [
    "train_set_size = int(len(X_filtered)*0.6)\n",
    "val_set_size = int(len(y_filtered)*0.2)\n",
    "# X = X_std[:,:12]\n",
    "X_train = X_filtered[-train_set_size:]\n",
    "X_val = X_filtered[val_set_size:-train_set_size]\n",
    "X_test = X_filtered[:-train_set_size-val_set_size]\n",
    "y_train = y_filtered[-train_set_size:]\n",
    "y_val = y_filtered[val_set_size:-train_set_size]\n",
    "y_test = y_filtered[:-train_set_size-val_set_size]\n",
    "\n",
    "print(X_filtered.shape, y_filtered.shape)\n",
    "\n",
    "print(X_train.shape, y_train.shape, X_val.shape, y_val.shape, X_test.shape, y_test.shape)"
   ]
  },
  {
   "cell_type": "markdown",
   "id": "1b4afe67-25f4-4f0a-9918-d3e938d57e12",
   "metadata": {},
   "source": [
    "**ML models**"
   ]
  },
  {
   "cell_type": "markdown",
   "id": "25821dbe-9aea-41d4-bb72-60125dfbf704",
   "metadata": {},
   "source": [
    "**Check train results**"
   ]
  },
  {
   "cell_type": "code",
   "execution_count": 18,
   "id": "c6e8b7ad-6abf-4c92-b773-4451cad67da3",
   "metadata": {},
   "outputs": [
    {
     "name": "stdout",
     "output_type": "stream",
     "text": [
      "0.16978394460020363\n",
      "-0.008492554508390704\n"
     ]
    }
   ],
   "source": [
    "from sklearn.gaussian_process import GaussianProcessRegressor\n",
    "from sklearn.gaussian_process.kernels import DotProduct, WhiteKernel\n",
    "from sklearn.gaussian_process import GaussianProcessRegressor\n",
    "from sklearn.preprocessing import StandardScaler\n",
    "\n",
    "scaler = StandardScaler()\n",
    "\n",
    "X_train_std = scaler.fit_transform(X_train)\n",
    "X_val_std = scaler.transform(X_val)\n",
    "\n",
    "kernel = DotProduct() + WhiteKernel()\n",
    "gpr = GaussianProcessRegressor(kernel=kernel, random_state=0).fit(X_train_std, y_train)\n",
    "print(gpr.score(X_train_std, y_train))\n",
    "print(f\"Train score for Gaussian: {gpr.score(X_val_std, y_val)}\") # bad validation performance?"
   ]
  },
  {
   "cell_type": "code",
   "execution_count": 19,
   "id": "e2ad98a2-9b5a-4116-8749-02e2da596fb0",
   "metadata": {},
   "outputs": [
    {
     "name": "stdout",
     "output_type": "stream",
     "text": [
      "Train MSE: 0.0352, R2: 0.8572\n",
      "Test MSE: 0.2413, R2: 0.0139\n",
      "\n"
     ]
    }
   ],
   "source": [
    "# !pip install xgboost\n",
    "\n",
    "import xgboost as xgb\n",
    "from sklearn.metrics import mean_squared_error, r2_score\n",
    "from sklearn.model_selection import train_test_split\n",
    "from sklearn.preprocessing import StandardScaler\n",
    "import numpy as np\n",
    "\n",
    "scaler = StandardScaler()\n",
    "X_train_std = scaler.fit_transform(X_train)\n",
    "X_val_std = scaler.transform(X_val)\n",
    "\n",
    "\n",
    "best_r2 = 0\n",
    "best_config = None\n",
    "\n",
    "# xgb_model = xgb.XGBRegressor()\n",
    "# xgb_model.load_model(\"xgb_best_model.json\") # the problem is that i should only load the parameters actually, not the fitted model\n",
    "xgb_model = xgb.XGBRegressor(\n",
    "    n_estimators=500,\n",
    "    max_depth=11,\n",
    "    learning_rate=0.003,\n",
    "    subsample=0.8,\n",
    "    colsample_bytree=0.8,\n",
    "    random_state=42\n",
    ")\n",
    "\n",
    "xgb_model.fit(X_train_std, y_train)\n",
    "\n",
    "# train evaluation\n",
    "y_train_pred = xgb_model.predict(X_train_std)\n",
    "train_mse = mean_squared_error(y_train, y_train_pred)\n",
    "train_r2 = r2_score(y_train, y_train_pred)\n",
    "print(f\"Train MSE: {train_mse:.4f}, Train R2: {train_r2:.4f}\")\n",
    "\n",
    "# validation\n",
    "y_val_pred = xgb_model.predict(X_val_std)\n",
    "y_val_pred_adj = np.round(y_val_pred).astype(int)\n",
    "acc = len(np.where(y_val_pred_adj == y_val)[0]) / len(y_val_pred_adj)\n",
    "test_mse = mean_squared_error(y_val, y_val_pred)\n",
    "test_r2 = r2_score(y_val, y_val_pred)\n",
    "print(f\"Test MSE: {test_mse:.4f}, Val R2: {test_r2:.4f}\\n\") # bad generalization?"
   ]
  },
  {
   "cell_type": "markdown",
   "id": "249a2151-70c3-4e84-bf16-2d80832b34bd",
   "metadata": {},
   "source": [
    "**Train + val: check test results**"
   ]
  },
  {
   "cell_type": "code",
   "execution_count": 20,
   "id": "d24d0d7c-f148-4bdb-952b-dd5d3a11f3f8",
   "metadata": {},
   "outputs": [
    {
     "name": "stdout",
     "output_type": "stream",
     "text": [
      "y_test_pred shape (241,)\n",
      "Test R2 for XGBoost 0.11429893970489502\n",
      "Score for Gaussian: 0.0832859957690566\n"
     ]
    }
   ],
   "source": [
    "X_trainval = np.concat((X_train, X_val))\n",
    "y_trainval = np.concat((y_train, y_val))\n",
    "scaler = StandardScaler()\n",
    "X_trainval_std = scaler.fit_transform(X_trainval)\n",
    "X_test_std = scaler.transform(X_test)\n",
    "\n",
    "xgb_model = xgb.XGBRegressor(\n",
    "    n_estimators=500,\n",
    "    max_depth=11,\n",
    "    learning_rate=0.003,\n",
    "    subsample=0.8,\n",
    "    colsample_bytree=0.8,\n",
    "    random_state=42\n",
    ")\n",
    "xgb_model.fit(X_trainval_std, y_trainval) # now train on whole dataset to predict hypothetical fights\n",
    "y_test_pred = xgb_model.predict(X_test_std)\n",
    "print(f\"y_test_pred shape {y_test_pred.shape}\")\n",
    "xgb_r2_test = r2_score(y_test, y_test_pred)\n",
    "print(f\"Test R2 for XGBoost {test_r2}\")\n",
    "# wow so much better than validation?\n",
    "\n",
    "kernel = DotProduct() + WhiteKernel()\n",
    "gpr = GaussianProcessRegressor(kernel=kernel, random_state=0).fit(X_trainval_std, y_trainval)\n",
    "gpr_r2_test = gpr.score(X_std, y_filtered)\n",
    "print(f\"Test score for Gaussian: {gpr_r2_test}\") # bad generalization?"
   ]
  },
  {
   "cell_type": "code",
   "execution_count": null,
   "id": "7dedcb9b-e84f-4b27-83a2-dda4dccab9cb",
   "metadata": {},
   "outputs": [],
   "source": [
    "# check test results\n",
    "\n",
    "row = y_df.loc[y_df['id'] == \"d95f21817a56eb05\"]\n",
    "print(row.index[0])\n",
    "index = row.index[0]# - 240\n",
    "\n",
    "# print(gpr.predict(h_df.iloc[0].values.reshape(1,-1), return_std=True)[0])\n",
    "# print(xgb_loaded.predict(h_df.iloc[0].values.reshape(1,-1)))\n",
    "\n",
    "# print(gpr.predict(X_val_std[row.index[0]].reshape(1,-1), return_std=True)[1])\n",
    "\n",
    "print(f\"Gaussian: {round(float(gpr.predict(X_test_std[index].reshape(1,-1))[0]), 2)}\")\n",
    "print(f\"XGBoost: {round(float(y_test_pred[index]), 2)}\")\n",
    "\n",
    "# print(h_df.iloc[0].to_numpy().reshape(1,-1))\n",
    "\n",
    "# very bad prediction for chandla vs back at the flouty. To count => More age, damage accumulated and recovery stats\n",
    "# pereira hill => bad prediction. To count =>  very long layoffs\n",
    "# o malley merab predicts o malley clearly??. To count => More wrestling / cardio stats\n",
    "# reyes krylov predicts krylov. To count => very long layoffs\n",
    "# predicts Bryce to confidently beat Silva. Reward more the recent performances\n",
    "# penalyze fighters who recently got knocked out like BSD, specially against strong punchers\n",
    "# craig favourite against borralho??\n",
    "# kattar ON A 2 FIGHT LOSING STREAK favourite against sterling??\n",
    "# vera favourite against o mallley? why?\n",
    "# ancient dos anjos favourite against gamrot. old record counting too much\n",
    "# predicts bad for jones"
   ]
  },
  {
   "cell_type": "markdown",
   "id": "ca2f349c-e443-4a11-913c-127165f0279b",
   "metadata": {},
   "source": [
    "**Train on all data to predict future fights**"
   ]
  },
  {
   "cell_type": "code",
   "execution_count": 22,
   "id": "e21e622d-31fa-40d2-b246-41df2519dc1f",
   "metadata": {},
   "outputs": [
    {
     "name": "stdout",
     "output_type": "stream",
     "text": [
      "y_pred shape (1198,)\n",
      "All train R2 for XGBoost 0.11429893970489502\n",
      "Train score for Gaussian: 0.14034525972787404\n"
     ]
    }
   ],
   "source": [
    "# X_all = np.concat((X_train, X_val))\n",
    "# y_trainval = np.concat((y_train, y_val))\n",
    "full_data_scaler = StandardScaler()\n",
    "X_std = full_data_scaler.fit_transform(X_filtered)\n",
    "# X_test_std = scaler.transform(X_test)\n",
    "\n",
    "xgb_model = xgb.XGBRegressor(\n",
    "    n_estimators=500,\n",
    "    max_depth=11,\n",
    "    learning_rate=0.003,\n",
    "    subsample=0.8,\n",
    "    colsample_bytree=0.8,\n",
    "    random_state=42\n",
    ")\n",
    "xgb_model.fit(X_std, y_filtered) # now train on whole dataset to predict hypothetical fights\n",
    "y_pred = xgb_model.predict(X_std)\n",
    "print(f\"y_pred shape {y_pred.shape}\")\n",
    "train_r2 = r2_score(y_filtered, y_pred)\n",
    "print(f\"All train R2 for XGBoost {test_r2}\")\n",
    "# exactly the same as for test? somethings off\n",
    "\n",
    "kernel = DotProduct() + WhiteKernel()\n",
    "gpr = GaussianProcessRegressor(kernel=kernel, random_state=0).fit(X_std, y_filtered)\n",
    "print(f\"Train score for Gaussian: {gpr.score(X_std, y_filtered)}\")"
   ]
  },
  {
   "cell_type": "code",
   "execution_count": 35,
   "id": "80aaed7f-f86a-425e-b89e-afa66ed0c1c9",
   "metadata": {},
   "outputs": [],
   "source": [
    "from datetime import datetime\n",
    "from fight import get_hypothetical_fight\n",
    "from fighter import get_fighter_name_from_url\n",
    "from fight import encode_weight_class\n",
    "\n",
    "def predict_hypothetical_fight(fighter_0_id, fighter_1_id, full_df, division, cutoff_date=None): # only works for future fights i think, doesnt filter by date\n",
    "    url_0 = \"http://ufcstats.com/fighter-details/\"+fighter_0_id\n",
    "    url_1 = \"http://ufcstats.com/fighter-details/\"+fighter_1_id\n",
    "\n",
    "    fighter_0_name = get_fighter_name_from_url(url_0)\n",
    "    fighter_1_name = get_fighter_name_from_url(url_1)\n",
    "\n",
    "    if cutoff_date is None:\n",
    "        cutoff_date = datetime.strptime(\"2025-09-20\", \"%Y-%m-%d\").date() ## is age being calculated properly?\n",
    "    \n",
    "    hypothetical_fight = get_hypothetical_fight(url_0, url_1, cutoff_date)\n",
    "    hypothetical_fight['Fighter_A_career_stats_weight'] = hypothetical_fight['Fighter_B_career_stats_weight'] = None\n",
    "    # hypothetical_fight['Fight_info_division'] = np.array([division] * len(hypothetical_fight)).reshape(-1,1)\n",
    "    hypothetical_fight['Fight_info_division'] = division\n",
    "    h_df = engineer_features(hypothetical_fight, full_df)\n",
    "\n",
    "    h_df = full_data_scaler.transform(h_df) # which scaler is this one?\n",
    "\n",
    "\n",
    "    gaussian_prob = gpr.predict(h_df[0].reshape(1,-1), return_std=True)[0][0]\n",
    "    xgb_prob = xgb_model.predict(h_df[0].reshape(1,-1))[0]\n",
    "\n",
    "    gaussian_weight = gpr_r2_test / (gpr_r2_test + xgb_r2_test)\n",
    "    xgb_weight = xgb_r2_test / (gpr_r2_test + xgb_r2_test)\n",
    "\n",
    "    combined_prob = round((gaussian_prob * gaussian_weight + xgb_prob * xgb_weight) * 100, 2)\n",
    "\n",
    "    print(f\"Gaussian: {gpr.predict(h_df[0].reshape(1,-1), return_std=True)[0][0]}\")\n",
    "    print(f\"XG Boost: {xgb_model.predict(h_df[0].reshape(1,-1))[0]}\")\n",
    "    \n",
    "    # print((1-gpr.predict(h_df.iloc[0].values.reshape(1,-1), return_std=True)[0][0]) * 100 + \"%\")\n",
    "    # print((1-xgb_loaded.predict(h_df.iloc[0].values.reshape(1,-1))[0]) * 100 + \"%\")\n",
    "\n",
    "    return combined_prob"
   ]
  },
  {
   "cell_type": "code",
   "execution_count": 38,
   "id": "57a9bee3-3bd5-42fd-b52d-aa0fdab9f0f7",
   "metadata": {},
   "outputs": [],
   "source": [
    "def predict_hypothetical_probabilities(fighter_a_id, fighter_b_id, division, date):\n",
    "    combined_prob_1 = predict_hypothetical_fight(fighter_a_id, fighter_b_id, df, division, date)\n",
    "    combined_prob_2 = predict_hypothetical_fight(fighter_b_id, fighter_a_id, df, division, date)\n",
    "    real_prob = combined_prob_2 / (combined_prob_1+combined_prob_2)\n",
    "    fighter_a_url, fighter_b_url = \"http://ufcstats.com/fighter-details/\" + fighter_a_id, \"http://ufcstats.com/fighter-details/\" + fighter_b_id\n",
    "    fighter_a_name, fighger_b_name = get_fighter_name_from_url(fighter_a_url), get_fighter_name_from_url(fighter_b_url)\n",
    "    print(f\"Probabilities given for {fighter_a_name} to beat {fighter_b_name} in LW: {round(real_prob*100, 1)}%\")"
   ]
  },
  {
   "cell_type": "code",
   "execution_count": 40,
   "id": "8bd866e3-66be-4978-a620-8b525d4936b5",
   "metadata": {},
   "outputs": [
    {
     "name": "stdin",
     "output_type": "stream",
     "text": [
      "Please introduce fighter A id e1248941344b3288\n",
      "Please introduce fighter B id f166e93d04a8c274\n",
      "Please introduce division (1-Flyweight, 4-Lightweight, 8-Heavyweight) 3\n",
      "Please introduce the fight date in format like 'Jan 1, 2000' Jan 1, 2026\n"
     ]
    },
    {
     "name": "stderr",
     "output_type": "stream",
     "text": [
      "C:\\Users\\Rober\\miniconda3\\envs\\ufc\\Lib\\site-packages\\sklearn\\utils\\validation.py:2732: UserWarning: X has feature names, but StandardScaler was fitted without feature names\n",
      "  warnings.warn(\n"
     ]
    },
    {
     "name": "stdout",
     "output_type": "stream",
     "text": [
      "Gaussian: 0.40802442364532965\n",
      "XG Boost: 0.4487445652484894\n"
     ]
    },
    {
     "name": "stderr",
     "output_type": "stream",
     "text": [
      "C:\\Users\\Rober\\miniconda3\\envs\\ufc\\Lib\\site-packages\\sklearn\\utils\\validation.py:2732: UserWarning: X has feature names, but StandardScaler was fitted without feature names\n",
      "  warnings.warn(\n"
     ]
    },
    {
     "name": "stdout",
     "output_type": "stream",
     "text": [
      "Gaussian: 0.45690687564524524\n",
      "XG Boost: 0.4747301936149597\n",
      "Probabilities given for Alexander Volkanovski to beat Diego Lopes in LW: 52.0%\n"
     ]
    }
   ],
   "source": [
    "fighter_a_name = input(\"Please introduce fighter A name\")\n",
    "fighter_a_surname = input(\"Please introduce fighter A name\")\n",
    "\n",
    "\n",
    "fighter_b = input(\"Please introduce fighter B id\")\n",
    "division = int(input(\"Please introduce division (1-Flyweight, 4-Lightweight, 8-Heavyweight)\"))\n",
    "fight_date = input(f\"Please introduce the fight date in format like 'Jan 1, 2000'\")\n",
    "fight_datetime = datetime.strptime(fight_date.strip(), \"%b %d, %Y\").date()\n",
    "\n",
    "predict_hypothetical_probabilities(fighter_a, fighter_b, division, fight_datetime)"
   ]
  },
  {
   "cell_type": "markdown",
   "id": "9edf7cdd-bc3f-4a6e-98d8-cc8354d30f27",
   "metadata": {},
   "source": [
    "**TO DO: TRY OTHER MODELS**"
   ]
  },
  {
   "cell_type": "code",
   "execution_count": null,
   "id": "0ca417d3-04a6-424b-9a25-cfc63a1e168d",
   "metadata": {},
   "outputs": [],
   "source": [
    "# !pip install torch\n",
    "\n",
    "import torch\n",
    "import torch.nn as nn\n",
    "import torch.optim as optim\n",
    "import numpy as np\n",
    "from sklearn.model_selection import train_test_split\n",
    "from sklearn.preprocessing import StandardScaler\n",
    "from sklearn.metrics import mean_squared_error\n",
    "\n",
    "\n",
    "class NN(nn.Module):\n",
    "    def __init__(self, input_dim, drop_rate=0.5):\n",
    "        super(SimpleNN, self).__init__()\n",
    "        self.fc1 = nn.Linear(input_dim, 256)\n",
    "        self.dropout1 = nn.Dropout(drop_rate)\n",
    "        self.fc2 = nn.Linear(256, 128)\n",
    "        self.dropout2 = nn.Dropout(drop_rate)\n",
    "        self.fc3 = nn.Linear(128, 1)\n",
    "\n",
    "    def forward(self, x):\n",
    "        x = torch.relu(self.fc1(x))\n",
    "        x = self.dropout1(x)\n",
    "        x = torch.relu(self.fc2(x))\n",
    "        x = self.dropout2(x)\n",
    "        x = self.fc3(x)\n",
    "        return x"
   ]
  },
  {
   "cell_type": "code",
   "execution_count": null,
   "id": "73bc3cf7-053e-4545-853a-07273e116617",
   "metadata": {},
   "outputs": [],
   "source": [
    "from sklearn.linear_model import LinearRegression\n",
    "\n",
    "reg = LinearRegression()\n",
    "reg.fit(X_train, y_train)\n",
    "reg.score(X_val, y_val)"
   ]
  },
  {
   "cell_type": "code",
   "execution_count": null,
   "id": "9226bb5a-0c9a-4578-9ce1-60537b2b41df",
   "metadata": {},
   "outputs": [],
   "source": [
    "from sklearn.ensemble import RandomForestRegressor\n",
    "\n",
    "reg = RandomForestRegressor()\n",
    "reg.fit(X_train, y_train)\n",
    "reg.score(X_val, y_val)"
   ]
  }
 ],
 "metadata": {
  "kernelspec": {
   "display_name": "UFC",
   "language": "python",
   "name": "ufc"
  },
  "language_info": {
   "codemirror_mode": {
    "name": "ipython",
    "version": 3
   },
   "file_extension": ".py",
   "mimetype": "text/x-python",
   "name": "python",
   "nbconvert_exporter": "python",
   "pygments_lexer": "ipython3",
   "version": "3.13.2"
  }
 },
 "nbformat": 4,
 "nbformat_minor": 5
}
