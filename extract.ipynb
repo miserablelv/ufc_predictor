{
 "cells": [
  {
   "cell_type": "code",
   "execution_count": 1,
   "id": "fc1f2bc7-9e46-4ef1-a1d0-5cf82ef98362",
   "metadata": {},
   "outputs": [
    {
     "name": "stdout",
     "output_type": "stream",
     "text": [
      "731\n"
     ]
    }
   ],
   "source": [
    "from fight import get_all_events_urls\n",
    "\n",
    "all_events = get_all_events_urls()\n",
    "print(len(all_events))"
   ]
  },
  {
   "cell_type": "code",
   "execution_count": 2,
   "id": "b97e2bbb-9fcb-4041-bfdb-92dfc6785e5d",
   "metadata": {},
   "outputs": [
    {
     "name": "stdout",
     "output_type": "stream",
     "text": [
      "Extracting data from UFC 315: Muhammad vs. Della Maddalena on May 10, 2025\n",
      "Time taken to extract event is 11.482510328292847\n",
      "2\n"
     ]
    }
   ],
   "source": [
    "from fight import extract_fights_in_events\n",
    "\n",
    "fights = extract_fights_in_events(all_events)\n",
    "print(len(fights))"
   ]
  },
  {
   "cell_type": "code",
   "execution_count": 4,
   "id": "178c2e9e-9046-4900-a4ba-33ab60c846fa",
   "metadata": {},
   "outputs": [],
   "source": [
    "from fight import flatten_fight_data\n",
    "import pandas as pd\n",
    "\n",
    "fights_X, fights_y = fights\n",
    "\n",
    "flattened_fight_dicts = []\n",
    "\n",
    "for fight_dict in fights_X:\n",
    "    flattened_fight_dicts.append(flatten_fight_data(fight_dict))\n",
    "    \n",
    "df = pd.DataFrame(flattened_fight_dicts)\n",
    "df.to_csv(\"fights_df.csv\")\n",
    "print(df.head())\n",
    "\n",
    "df = pd.DataFrame([fights_y]) # maybe add fight id\n",
    "df.to_csv(\"fight_results.csv\")\n",
    "print(df.head())"
   ]
  },
  {
   "cell_type": "code",
   "execution_count": 5,
   "id": "78656c89-b0b5-40b0-857d-714b4e0ef2d6",
   "metadata": {},
   "outputs": [],
   "source": [
    "import json\n",
    "import numpy as np\n",
    "\n",
    "df = pd.DataFrame(flattened_fight_dicts)\n",
    "records = df.to_dict(orient=\"records\")\n",
    "\n",
    "with open(\"fights.json\", \"w\") as f:\n",
    "    json.dump(records, f, indent=2)"
   ]
  },
  {
   "cell_type": "code",
   "execution_count": 6,
   "id": "add59be3-d839-4a06-a2de-2747acb8ba8e",
   "metadata": {},
   "outputs": [
    {
     "name": "stdout",
     "output_type": "stream",
     "text": [
      "(1219, 147)\n"
     ]
    }
   ],
   "source": [
    "import pandas as pd\n",
    "\n",
    "with open(\"fights_df.json\", 'r+') as f:\n",
    "    data = json.load(f)\n",
    "    # current_df = pd.DataFrame(data)\n",
    "old_df = pd.DataFrame(data)\n",
    "\n",
    "print(old_df.shape)"
   ]
  },
  {
   "cell_type": "markdown",
   "id": "5f947fb6-da0a-4270-91f7-85e8ed573885",
   "metadata": {},
   "source": [
    "**Fix/add the weights**"
   ]
  },
  {
   "cell_type": "code",
   "execution_count": null,
   "id": "af33375e-f904-4c05-a627-f3d96795319b",
   "metadata": {},
   "outputs": [],
   "source": [
    "import requests\n",
    "from bs4 import BeautifulSoup\n",
    "from fight import get_fight_details\n",
    "\n",
    "with open(\"fights_df.json\", 'r+') as f:\n",
    "    data = json.load(f)\n",
    "df = pd.DataFrame(data)\n",
    "\n",
    "\n",
    "\n",
    "weights = []\n",
    "\n",
    "for i in range(len(df)):\n",
    "    fight_url = \"http://www.ufcstats.com/fight-details/\" + df.iloc[i]['Fight_id']\n",
    "    response = requests.get(fight_url)\n",
    "    fight_soup = BeautifulSoup(response.text, 'html.parser')\n",
    "    fight_details = get_fight_details(fight_soup)\n",
    "    weights.append(fight_details['division'])\n",
    "\n",
    "df['Fighter_A_career_stats_weight'] = weights\n",
    "df['Fighter_B_career_stats_weight'] = weights"
   ]
  },
  {
   "cell_type": "code",
   "execution_count": 8,
   "id": "f2e1739e-6e2f-4fa2-9f0f-903d92664da8",
   "metadata": {},
   "outputs": [],
   "source": [
    "df['Fighter_A_career_stats_weight'] = weights\n",
    "df['Fighter_B_career_stats_weight'] = weights"
   ]
  },
  {
   "cell_type": "code",
   "execution_count": 9,
   "id": "5a7ce01a-af89-41dd-bc85-3a0dd4d35144",
   "metadata": {},
   "outputs": [],
   "source": [
    "fighter_id = \"54f64b5e283b0ce7\"\n",
    "\n",
    "def get_fighter_mean_weight(df, fighter_id):\n",
    "    \n",
    "    a_weights = df.loc[df['Fighter_A_id'] == fighter_id, 'Fighter_A_career_stats_weight']\n",
    "    b_weights = df.loc[df['Fighter_B_id'] == fighter_id, 'Fighter_B_career_stats_weight']\n",
    "    all_weights = pd.concat([a_weights, b_weights])\n",
    "\n",
    "    return np.mean(all_weights)"
   ]
  },
  {
   "cell_type": "code",
   "execution_count": 12,
   "id": "6759e70e-475a-4f29-b670-b18957c668c4",
   "metadata": {},
   "outputs": [
    {
     "name": "stdout",
     "output_type": "stream",
     "text": [
      "3.0\n",
      "(1219, 149)\n",
      "0       0.442857\n",
      "1       0.071429\n",
      "2       0.000000\n",
      "3       0.000000\n",
      "4       0.000000\n",
      "          ...   \n",
      "1214   -0.076923\n",
      "1215    0.000000\n",
      "1216    0.051282\n",
      "1217    0.000000\n",
      "1218   -0.750000\n",
      "Name: Weight_diff, Length: 1219, dtype: float64\n"
     ]
    }
   ],
   "source": [
    "import numpy as np\n",
    "\n",
    "print(np.mean(df.loc[df['Fighter_A_id'] == \"54f64b5e283b0ce7\", \"Fighter_A_career_stats_weight\"]))\n",
    "print(df.shape)\n",
    "\n",
    "def get_fights_weight_diff(df, real=True):\n",
    "    if real:\n",
    "        weight_mean_a = []\n",
    "        weight_mean_b = []\n",
    "    \n",
    "        for i in range(len(df)):\n",
    "            fighter_id = df.iloc[i]['Fighter_A_id']\n",
    "            weight_mean_a.append(get_fighter_mean_weight(df, df.iloc[i]['Fighter_A_id']))\n",
    "            weight_mean_b.append(get_fighter_mean_weight(df, df.iloc[i]['Fighter_B_id']))\n",
    "        return np.array(weight_mean_a) - np.array(weight_mean_b)\n",
    "\n",
    "    else:\n",
    "        fighter_a_id = df['Fighter_A_id'].iloc[0]\n",
    "        fighter_b_id = df['Fighter_B_id'].iloc[0]\n",
    "        weight_mean_a = get_fighter_mean_weight(df, df.iloc[i]['Fighter_A_id'])\n",
    "        weight_mean_b = get_fighter_mean_weight(df, df.iloc[i]['Fighter_B_id'])\n",
    "        difference = weight_mean_a - weight_mean_b\n",
    "        print(difference)\n",
    "        return difference\n",
    "        \n",
    "    \n",
    "df['Weight_diff'] = get_fights_weight_diff(df)\n",
    "print(df['Weight_diff'])\n",
    "\n",
    "with open('new_new_fights_df.json', \"w\") as file:\n",
    "    json.dump(df.to_dict(orient=\"records\"), file)"
   ]
  }
 ],
 "metadata": {
  "kernelspec": {
   "display_name": "UFC",
   "language": "python",
   "name": "ufc"
  },
  "language_info": {
   "codemirror_mode": {
    "name": "ipython",
    "version": 3
   },
   "file_extension": ".py",
   "mimetype": "text/x-python",
   "name": "python",
   "nbconvert_exporter": "python",
   "pygments_lexer": "ipython3",
   "version": "3.13.2"
  }
 },
 "nbformat": 4,
 "nbformat_minor": 5
}
